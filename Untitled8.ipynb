{
  "nbformat": 4,
  "nbformat_minor": 0,
  "metadata": {
    "colab": {
      "provenance": [],
      "authorship_tag": "ABX9TyPmlnB9BkPdxCeQY5Qr5fC7",
      "include_colab_link": true
    },
    "kernelspec": {
      "name": "python3",
      "display_name": "Python 3"
    },
    "language_info": {
      "name": "python"
    }
  },
  "cells": [
    {
      "cell_type": "markdown",
      "metadata": {
        "id": "view-in-github",
        "colab_type": "text"
      },
      "source": [
        "<a href=\"https://colab.research.google.com/github/Karthik169/code_vita/blob/main/Untitled8.ipynb\" target=\"_parent\"><img src=\"https://colab.research.google.com/assets/colab-badge.svg\" alt=\"Open In Colab\"/></a>"
      ]
    },
    {
      "cell_type": "code",
      "source": [],
      "metadata": {
        "id": "mt8ZHv6FWQqE"
      },
      "execution_count": null,
      "outputs": []
    },
    {
      "cell_type": "code",
      "source": [
        "from math import gcd\n",
        "\n",
        "l = list(map(int, input().split()))\n",
        "q = min(l)\n",
        "lcm = l[0]\n",
        "\n",
        "for i in l[1:]:\n",
        "    lcm = (lcm * i) // gcd(lcm, i)\n",
        "\n",
        "p = lcm + q\n",
        "is_prime = True\n",
        "\n",
        "for a in range(2, int(p**0.5) + 1):\n",
        "    if p % a == 0:\n",
        "        is_prime = False\n",
        "        break\n",
        "\n",
        "if is_prime and p < 10**10:\n",
        "    print(p)\n",
        "else:\n",
        "    print(\"None\")\n"
      ],
      "metadata": {
        "colab": {
          "base_uri": "https://localhost:8080/"
        },
        "id": "_cyH39vQVyoh",
        "outputId": "7962ae81-a2fa-43f9-ddf9-e2ca9eb88d8f"
      },
      "execution_count": 19,
      "outputs": [
        {
          "output_type": "stream",
          "name": "stdout",
          "text": [
            "3 4 5 2\n",
            "None\n"
          ]
        }
      ]
    }
  ]
}