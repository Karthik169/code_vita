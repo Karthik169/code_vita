{
  "nbformat": 4,
  "nbformat_minor": 0,
  "metadata": {
    "colab": {
      "provenance": [],
      "authorship_tag": "ABX9TyOMuKkf8jYdUczSXb20G6V4",
      "include_colab_link": true
    },
    "kernelspec": {
      "name": "python3",
      "display_name": "Python 3"
    },
    "language_info": {
      "name": "python"
    }
  },
  "cells": [
    {
      "cell_type": "markdown",
      "metadata": {
        "id": "view-in-github",
        "colab_type": "text"
      },
      "source": [
        "<a href=\"https://colab.research.google.com/github/Karthik169/code_vita/blob/main/SnakeandLadder.ipynb\" target=\"_parent\"><img src=\"https://colab.research.google.com/assets/colab-badge.svg\" alt=\"Open In Colab\"/></a>"
      ]
    },
    {
      "cell_type": "code",
      "source": [
        "board = []\n",
        "for i in range(10):\n",
        "    row = input().split()\n",
        "    if i % 2 == 0:\n",
        "        board.insert(0, row[::-1])\n",
        "    else:\n",
        "        board.insert(0, row)\n",
        "\n",
        "from itertools import chain\n",
        "flatten_board = list(chain.from_iterable(board))\n",
        "moves = list(map(int, input().split()))\n",
        "cur_pos = -1\n",
        "snakes = 0\n",
        "ladders = 0\n",
        "flag = 0\n",
        "\n",
        "for move in moves:\n",
        "    cur_pos += move\n",
        "    if cur_pos >= len(flatten_board):\n",
        "        flag = 1\n",
        "        print(\"Possible\", snakes, ladders)\n",
        "        break\n",
        "\n",
        "    if flatten_board[cur_pos] == \"End\":\n",
        "        flag = 1\n",
        "        print(\"Possible\", snakes, ladders)\n",
        "        break\n",
        "\n",
        "    elif flatten_board[cur_pos][0] == \"S\" and flatten_board[cur_pos] != \"Start\":\n",
        "        snakes += 1\n",
        "        if flatten_board[cur_pos][2:-1] == \"Start\":\n",
        "            cur_pos = 0\n",
        "        else:\n",
        "            cur_pos = int(flatten_board[cur_pos][2:-1]) - 1\n",
        "\n",
        "    elif flatten_board[cur_pos][0] == \"L\":\n",
        "        ladders += 1\n",
        "        cur_pos = int(flatten_board[cur_pos][2:-1]) - 1\n",
        "\n",
        "if flag == 0:\n",
        "    print(\"Not possible\", snakes, ladders, cur_pos + 1)\n"
      ],
      "metadata": {
        "colab": {
          "base_uri": "https://localhost:8080/"
        },
        "id": "mt8ZHv6FWQqE",
        "outputId": "e683c770-ef4f-4292-f614-66dd5c78f661"
      },
      "execution_count": 21,
      "outputs": [
        {
          "output_type": "stream",
          "name": "stdout",
          "text": [
            "End S(Start) 98 97 96 95 94 93 92 91\n",
            "81 82 83 84 L(98) 86 87 88 89 90\n",
            "80 79 S(46) 77 76 75 74 73 72 71\n",
            "61 62 63 64 65 66 67 68 69 70\n",
            "60 59 58 57 56 55 S(25) 53 52 51\n",
            "41 42 43 L(62) 45 46 47 48 49 50\n",
            "40 39 38 37 36 35 34 33 32 31\n",
            "21 22 23 L(74) 25 26 27 28 29 30\n",
            "20 19 18 17 S(2) 15 14 13 12 11\n",
            "Start 2 3 4 5 6 7 8 9 10\n",
            "5 4 2 4 1\n",
            "Not possible 1 0 2\n"
          ]
        }
      ]
    }
  ]
}